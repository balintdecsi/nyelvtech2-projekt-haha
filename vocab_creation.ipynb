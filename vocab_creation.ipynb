{
 "metadata": {
  "language_info": {
   "codemirror_mode": {
    "name": "ipython",
    "version": 3
   },
   "file_extension": ".py",
   "mimetype": "text/x-python",
   "name": "python",
   "nbconvert_exporter": "python",
   "pygments_lexer": "ipython3",
   "version": "3.9.1"
  },
  "orig_nbformat": 2,
  "kernelspec": {
   "name": "python391jvsc74a57bd0b84c2d970653190f6ff42325a2892d12c901fcb7d34494d0bbe235517760655c",
   "display_name": "Python 3.9.1 64-bit"
  },
  "metadata": {
   "interpreter": {
    "hash": "b84c2d970653190f6ff42325a2892d12c901fcb7d34494d0bbe235517760655c"
   }
  }
 },
 "nbformat": 4,
 "nbformat_minor": 2,
 "cells": [
  {
   "cell_type": "code",
   "execution_count": null,
   "metadata": {},
   "outputs": [],
   "source": [
    "import json\n",
    "\n",
    "with open(\"data\\corpus.jsonl\") as f:\n",
    "    for line in f:\n",
    "        a = json.loads(line)\n",
    "        print(a[\"abstract\"])\n",
    "        break"
   ]
  },
  {
   "cell_type": "code",
   "execution_count": null,
   "metadata": {},
   "outputs": [],
   "source": [
    "import nltk\n",
    "\n",
    "nltk.download(\"stopwords\")\n",
    "print(nltk.corpus.stopwords.words(\"english\"))\n"
   ]
  },
  {
   "cell_type": "code",
   "execution_count": null,
   "metadata": {},
   "outputs": [],
   "source": [
    "import json\n",
    "import nltk\n",
    "\n",
    "nltk.download(\"punkt\")\n",
    "\n",
    "with open(\"data\\corpus.jsonl\") as f:\n",
    "    for line in f:\n",
    "        line_dict = json.loads(line)\n",
    "        abstract = line_dict[\"abstract\"]\n",
    "        # print(abstract)\n",
    "        abstract_tokens = [nltk.tokenize.word_tokenize(sent) for sent in abstract]\n",
    "        print(abstract_tokens)\n",
    "        break"
   ]
  },
  {
   "cell_type": "code",
   "execution_count": null,
   "metadata": {},
   "outputs": [],
   "source": [
    "corpus_meaningful_tokens = []\n",
    "with open(\"data\\corpus.jsonl\") as f:\n",
    "    for line in f:\n",
    "        # tokenize line:\n",
    "        line_dict = json.loads(line)\n",
    "        abstract = line_dict[\"abstract\"]\n",
    "        abstract_tokens = [nltk.tokenize.word_tokenize(sent) for sent in abstract]\n",
    "        # adding important tokens to vocabulary:\n",
    "        stopwords = nltk.corpus.stopwords.words(\"english\")\n",
    "        for sent in abstract_tokens:\n",
    "            for word in sent:\n",
    "                if word.lower() not in stopwords and word.lower().isalpha():\n",
    "                    corpus_meaningful_tokens.append(word.lower())\n",
    "        \n",
    "corpus_vocab = set(corpus_meaningful_tokens)"
   ]
  },
  {
   "cell_type": "code",
   "execution_count": 42,
   "metadata": {},
   "outputs": [
    {
     "output_type": "error",
     "ename": "SyntaxError",
     "evalue": "invalid syntax (<ipython-input-42-fb04de2c4f4e>, line 2)",
     "traceback": [
      "\u001b[1;36m  File \u001b[1;32m\"<ipython-input-42-fb04de2c4f4e>\"\u001b[1;36m, line \u001b[1;32m2\u001b[0m\n\u001b[1;33m    else:\u001b[0m\n\u001b[1;37m    ^\u001b[0m\n\u001b[1;31mSyntaxError\u001b[0m\u001b[1;31m:\u001b[0m invalid syntax\n"
     ]
    }
   ],
   "source": []
  },
  {
   "cell_type": "code",
   "execution_count": null,
   "metadata": {},
   "outputs": [],
   "source": []
  },
  {
   "cell_type": "code",
   "execution_count": null,
   "metadata": {},
   "outputs": [],
   "source": []
  }
 ]
}